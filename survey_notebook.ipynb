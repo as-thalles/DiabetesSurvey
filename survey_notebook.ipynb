{
 "cells": [
  {
   "cell_type": "markdown",
   "metadata": {},
   "source": [
    "### Imports"
   ]
  },
  {
   "cell_type": "code",
   "execution_count": 11,
   "metadata": {},
   "outputs": [],
   "source": [
    "import joblib as jl\n",
    "import numpy as np\n",
    "import pandas as pd\n",
    "from sklearn.svm import SVC\n",
    "from sklearn.model_selection import StratifiedShuffleSplit\n",
    "from sklearn.model_selection import GridSearchCV"
   ]
  },
  {
   "cell_type": "markdown",
   "metadata": {},
   "source": [
    "### Preparação de Dados"
   ]
  },
  {
   "cell_type": "code",
   "execution_count": 8,
   "metadata": {},
   "outputs": [],
   "source": [
    "csv_filename = 'pima_indians_diabetes_binary_classification_dataset.csv'\n",
    "data = pd.read_csv(csv_filename) # Leitura CSV\n",
    "\n",
    "shape_x, shape_y = data.shape\n",
    "\n",
    "data_y = data.iloc[: , shape_y-1:] # Separa segmento X (variáveis)\n",
    "data_x = data.iloc[: , :shape_y-1] # Separa segmento Y (objetivo)"
   ]
  },
  {
   "cell_type": "code",
   "execution_count": 9,
   "metadata": {},
   "outputs": [],
   "source": [
    "seed = 37 # Seed para gerar os splits\n",
    "cv = StratifiedShuffleSplit(n_splits=10,\n",
    "                            test_size=0.1,\n",
    "                            random_state=seed) # Geração dos splits"
   ]
  },
  {
   "cell_type": "markdown",
   "metadata": {},
   "source": [
    "## Treinamento SVM"
   ]
  },
  {
   "cell_type": "code",
   "execution_count": 14,
   "metadata": {},
   "outputs": [],
   "source": [
    "C_range = np.logspace(-2, 10, 13) # Definindo range C\n",
    "gamma_range = np.logspace(-9, 3, 13) # Definindo range gamma\n",
    "\n",
    "# Gerando grid p/ grid search\n",
    "param_grid = dict(gamma=gamma_range, C=C_range) \n",
    "grid = GridSearchCV(SVC(), param_grid=param_grid, cv=cv)\n",
    "\n",
    "# Treinamento SVM\n",
    "# A execução deste comando demora bastante, cuidado para não executar sem necessidade.\n",
    "# grid.fit(data_x, data_y)\n",
    "\n",
    "# Print dos parâmetros com melhor resultado\n",
    "# print(\"The best parameters are %s with a score of %0.2f\" % (grid.best_params_, grid.best_score_))"
   ]
  },
  {
   "cell_type": "markdown",
   "metadata": {},
   "source": [
    "The best parameters are {'C': 100000.0, 'gamma': 1e-06} with a score of 0.76"
   ]
  },
  {
   "cell_type": "code",
   "execution_count": 1,
   "metadata": {},
   "outputs": [],
   "source": [
    "# jl.dump(grid, 'GridSearchCVSVM.pkl')  # Salvando modelo\n",
    "# jl.load(\"GridSearchCV.pkl\")  # Recuperando modelo"
   ]
  },
  {
   "cell_type": "markdown",
   "metadata": {},
   "source": [
    "### Novos métodos\n",
    "- Árvores de Decisão\n",
    "- Naïve Bayes\n",
    "- Regressão Logística\n",
    "- Rede Neural\n",
    "- K-Nearest Neighbors"
   ]
  }
 ],
 "metadata": {
  "kernelspec": {
   "display_name": "Python 3",
   "language": "python",
   "name": "python3"
  },
  "language_info": {
   "codemirror_mode": {
    "name": "ipython",
    "version": 3
   },
   "file_extension": ".py",
   "mimetype": "text/x-python",
   "name": "python",
   "nbconvert_exporter": "python",
   "pygments_lexer": "ipython3",
   "version": "3.8.5"
  }
 },
 "nbformat": 4,
 "nbformat_minor": 4
}
