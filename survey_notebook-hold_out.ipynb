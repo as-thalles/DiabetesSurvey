{
 "cells": [
  {
   "cell_type": "markdown",
   "metadata": {},
   "source": [
    "# Trabalho de Machine Learning - Ciência de Dados - UNDB\n",
    "### Equipe:\n",
    "- Arthur Avelino Pereira Ferreira\n",
    "- Cristiano dos Santos Pereira\n",
    "- Fábio Henrique Silva Furtado\n",
    "- Thalles Alencar Silva"
   ]
  },
  {
   "cell_type": "markdown",
   "metadata": {},
   "source": [
    "### Imports"
   ]
  },
  {
   "cell_type": "code",
   "execution_count": 1,
   "metadata": {},
   "outputs": [],
   "source": [
    "import pandas as pd\n",
    "\n",
    "from sklearn.svm import SVC\n",
    "from sklearn.tree import DecisionTreeClassifier\n",
    "\n",
    "from sklearn import metrics\n",
    "from sklearn.model_selection import train_test_split"
   ]
  },
  {
   "cell_type": "markdown",
   "metadata": {},
   "source": [
    "### Conhecendo o Dataset \n",
    "Os dados são para identificação de casos de diabetes, sendo assim um problema de classificação. Possui 8 colunas de variáveis independentes (X) e 1 coluna de variáveis dependentes (Y)."
   ]
  },
  {
   "cell_type": "code",
   "execution_count": 2,
   "metadata": {},
   "outputs": [
    {
     "data": {
      "text/html": [
       "<div>\n",
       "<style scoped>\n",
       "    .dataframe tbody tr th:only-of-type {\n",
       "        vertical-align: middle;\n",
       "    }\n",
       "\n",
       "    .dataframe tbody tr th {\n",
       "        vertical-align: top;\n",
       "    }\n",
       "\n",
       "    .dataframe thead th {\n",
       "        text-align: right;\n",
       "    }\n",
       "</style>\n",
       "<table border=\"1\" class=\"dataframe\">\n",
       "  <thead>\n",
       "    <tr style=\"text-align: right;\">\n",
       "      <th></th>\n",
       "      <th>times_pregnant</th>\n",
       "      <th>glucose_concentration</th>\n",
       "      <th>blood_pressure</th>\n",
       "      <th>triceps_skin_fold_thickness</th>\n",
       "      <th>insulin</th>\n",
       "      <th>bmi</th>\n",
       "      <th>pedigree_function</th>\n",
       "      <th>age</th>\n",
       "      <th>y</th>\n",
       "    </tr>\n",
       "  </thead>\n",
       "  <tbody>\n",
       "    <tr>\n",
       "      <th>0</th>\n",
       "      <td>6</td>\n",
       "      <td>148</td>\n",
       "      <td>72</td>\n",
       "      <td>35</td>\n",
       "      <td>0</td>\n",
       "      <td>33.6</td>\n",
       "      <td>0.627</td>\n",
       "      <td>50</td>\n",
       "      <td>1</td>\n",
       "    </tr>\n",
       "    <tr>\n",
       "      <th>1</th>\n",
       "      <td>1</td>\n",
       "      <td>85</td>\n",
       "      <td>66</td>\n",
       "      <td>29</td>\n",
       "      <td>0</td>\n",
       "      <td>26.6</td>\n",
       "      <td>0.351</td>\n",
       "      <td>31</td>\n",
       "      <td>0</td>\n",
       "    </tr>\n",
       "    <tr>\n",
       "      <th>2</th>\n",
       "      <td>8</td>\n",
       "      <td>183</td>\n",
       "      <td>64</td>\n",
       "      <td>0</td>\n",
       "      <td>0</td>\n",
       "      <td>23.3</td>\n",
       "      <td>0.672</td>\n",
       "      <td>32</td>\n",
       "      <td>1</td>\n",
       "    </tr>\n",
       "    <tr>\n",
       "      <th>3</th>\n",
       "      <td>1</td>\n",
       "      <td>89</td>\n",
       "      <td>66</td>\n",
       "      <td>23</td>\n",
       "      <td>94</td>\n",
       "      <td>28.1</td>\n",
       "      <td>0.167</td>\n",
       "      <td>21</td>\n",
       "      <td>0</td>\n",
       "    </tr>\n",
       "    <tr>\n",
       "      <th>4</th>\n",
       "      <td>0</td>\n",
       "      <td>137</td>\n",
       "      <td>40</td>\n",
       "      <td>35</td>\n",
       "      <td>168</td>\n",
       "      <td>43.1</td>\n",
       "      <td>2.288</td>\n",
       "      <td>33</td>\n",
       "      <td>1</td>\n",
       "    </tr>\n",
       "  </tbody>\n",
       "</table>\n",
       "</div>"
      ],
      "text/plain": [
       "   times_pregnant  glucose_concentration  blood_pressure  \\\n",
       "0               6                    148              72   \n",
       "1               1                     85              66   \n",
       "2               8                    183              64   \n",
       "3               1                     89              66   \n",
       "4               0                    137              40   \n",
       "\n",
       "   triceps_skin_fold_thickness  insulin   bmi  pedigree_function  age  y  \n",
       "0                           35        0  33.6              0.627   50  1  \n",
       "1                           29        0  26.6              0.351   31  0  \n",
       "2                            0        0  23.3              0.672   32  1  \n",
       "3                           23       94  28.1              0.167   21  0  \n",
       "4                           35      168  43.1              2.288   33  1  "
      ]
     },
     "execution_count": 2,
     "metadata": {},
     "output_type": "execute_result"
    }
   ],
   "source": [
    "csv_filename = 'pima_indians_diabetes_binary_classification_dataset.csv'\n",
    "data = pd.read_csv(csv_filename) # Leitura CSV\n",
    "data.head()"
   ]
  },
  {
   "cell_type": "markdown",
   "metadata": {},
   "source": [
    "### Preparação de Dados"
   ]
  },
  {
   "cell_type": "code",
   "execution_count": 3,
   "metadata": {},
   "outputs": [],
   "source": [
    "# Separação dos dados em conjuntos de treino e teste, variáveis dependentes e independentes.\n",
    "# O método train_test_split realiza estratificação por default.\n",
    "X_train, X_test, Y_train, Y_test = train_test_split(\n",
    "    data.drop('y',axis=1),\n",
    "    data['y'],\n",
    "    test_size=0.3\n",
    ")"
   ]
  },
  {
   "cell_type": "markdown",
   "metadata": {},
   "source": [
    "# Support Vector Mahcine (SVM)\n",
    "### Definição de constantes\n",
    "As constantes C e *gamma* foram definidas em um teste anterior por meio de validação cruzada, onde estes valores deram os melhores resultados."
   ]
  },
  {
   "cell_type": "code",
   "execution_count": 4,
   "metadata": {},
   "outputs": [],
   "source": [
    "c = 100000 # Variável C\n",
    "gamma = 0.000001 # Variável gamma"
   ]
  },
  {
   "cell_type": "markdown",
   "metadata": {},
   "source": [
    "### Treinamento do modelo\n",
    "Operação direta ao ponto: cria-se o modelo com as constantes definidas e faz-se o treinamento do modelo."
   ]
  },
  {
   "cell_type": "code",
   "execution_count": 5,
   "metadata": {},
   "outputs": [
    {
     "data": {
      "text/plain": [
       "SVC(C=100000, gamma=1e-06)"
      ]
     },
     "execution_count": 5,
     "metadata": {},
     "output_type": "execute_result"
    }
   ],
   "source": [
    "svc = SVC(gamma=gamma, C=c)\n",
    "svc.fit(X_train, Y_train)"
   ]
  },
  {
   "cell_type": "markdown",
   "metadata": {},
   "source": [
    "### Resultados\n",
    "Avaliação do modelo SVM treinado."
   ]
  },
  {
   "cell_type": "code",
   "execution_count": 6,
   "metadata": {},
   "outputs": [
    {
     "name": "stdout",
     "output_type": "stream",
     "text": [
      "              precision    recall  f1-score   support\n",
      "\n",
      "           0       0.75      0.92      0.82       150\n",
      "           1       0.74      0.42      0.54        81\n",
      "\n",
      "    accuracy                           0.74       231\n",
      "   macro avg       0.74      0.67      0.68       231\n",
      "weighted avg       0.74      0.74      0.72       231\n",
      "\n"
     ]
    }
   ],
   "source": [
    "resultado_svm = svc.predict(X_test)\n",
    "print(metrics.classification_report(Y_test, resultado_svm))"
   ]
  },
  {
   "cell_type": "markdown",
   "metadata": {},
   "source": [
    "# Árvore de Decisão \n",
    "Os passos empregados aqui são bastante similares àqueles empregados anteriormente.\n",
    "\n",
    "### Treinamento do modelo"
   ]
  },
  {
   "cell_type": "code",
   "execution_count": 7,
   "metadata": {},
   "outputs": [],
   "source": [
    "clf = DecisionTreeClassifier()\n",
    "clf = clf.fit(X_train, Y_train)"
   ]
  },
  {
   "cell_type": "markdown",
   "metadata": {},
   "source": [
    "### Resultados"
   ]
  },
  {
   "cell_type": "code",
   "execution_count": 8,
   "metadata": {},
   "outputs": [
    {
     "name": "stdout",
     "output_type": "stream",
     "text": [
      "              precision    recall  f1-score   support\n",
      "\n",
      "           0       0.77      0.74      0.76       150\n",
      "           1       0.55      0.59      0.57        81\n",
      "\n",
      "    accuracy                           0.69       231\n",
      "   macro avg       0.66      0.67      0.66       231\n",
      "weighted avg       0.69      0.69      0.69       231\n",
      "\n"
     ]
    }
   ],
   "source": [
    "resultado_ad = clf.predict(X_test)\n",
    "print(metrics.classification_report(Y_test, resultado_ad))"
   ]
  },
  {
   "cell_type": "markdown",
   "metadata": {},
   "source": [
    "# Considerações Finais\n",
    "Ambos modelos providenciam resultados bastante similares na classificação de pacientes que não possuem a enfermidade, ambos com acerto pouco acima de 75%. Entretanto o método de SVM se saiu consideralmente melhor no que diz respeito à classificação daqueles que de fato estão doentes, com uma precisão de 74% no SVM contra 55% nas árvores de decisão, uma diferença de quase 20%. Assim, neste dataset o método de SVM se apresentou mais eficaz.\n",
    "\n",
    "Entretanto poucos métodos foram explorados, e os números obtidos estão longe do ideal. Também o método de avaliação *hold-out*, aqui utilizado, não é o mais ideal para uma avaliação precisa pois com diferentes splits os resultados podem variar bastante, algo que foi observado durante múltiplas execuções deste *notebook*.\n",
    "\n",
    "Além disso seria interessante opiniões de especialistas a fim de possivelmente reduzir o espaço de características visto que isso poderia não somente acelerar o processo de treinamento (e definição de novos parâmetros para métodos que os precisem) como também os resultados."
   ]
  }
 ],
 "metadata": {
  "kernelspec": {
   "display_name": "Python 3",
   "language": "python",
   "name": "python3"
  },
  "language_info": {
   "codemirror_mode": {
    "name": "ipython",
    "version": 3
   },
   "file_extension": ".py",
   "mimetype": "text/x-python",
   "name": "python",
   "nbconvert_exporter": "python",
   "pygments_lexer": "ipython3",
   "version": "3.8.5"
  }
 },
 "nbformat": 4,
 "nbformat_minor": 4
}
